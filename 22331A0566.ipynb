{
  "nbformat": 4,
  "nbformat_minor": 0,
  "metadata": {
    "colab": {
      "provenance": [],
      "authorship_tag": "ABX9TyNfruVnTFRGqHUcpU3ZQFNI",
      "include_colab_link": true
    },
    "kernelspec": {
      "name": "python3",
      "display_name": "Python 3"
    },
    "language_info": {
      "name": "python"
    }
  },
  "cells": [
    {
      "cell_type": "markdown",
      "metadata": {
        "id": "view-in-github",
        "colab_type": "text"
      },
      "source": [
        "<a href=\"https://colab.research.google.com/github/22331A0566/java/blob/main/22331A0566.ipynb\" target=\"_parent\"><img src=\"https://colab.research.google.com/assets/colab-badge.svg\" alt=\"Open In Colab\"/></a>"
      ]
    },
    {
      "cell_type": "markdown",
      "source": [
        "WEEK-1"
      ],
      "metadata": {
        "id": "wlMCzyNda_QV"
      }
    },
    {
      "cell_type": "markdown",
      "source": [
        "1. Create a list of five elements. Pass the list to a function and compute the average of\n",
        "five numbers."
      ],
      "metadata": {
        "id": "JdKKHIWqonO6"
      }
    },
    {
      "cell_type": "code",
      "source": [
        "def average(numbers):\n",
        "  return sum(numbers)/len(numbers)\n",
        "numbers = [10,20,30,40,50]\n",
        "average = average(numbers)\n",
        "print(f\"The average of the numbers is : {average}\")"
      ],
      "metadata": {
        "id": "TNHtJ2kIbSE9",
        "colab": {
          "base_uri": "https://localhost:8080/"
        },
        "outputId": "eb0ae9e5-39f3-46f4-fec0-78ca7fa3a8e6"
      },
      "execution_count": null,
      "outputs": [
        {
          "output_type": "stream",
          "name": "stdout",
          "text": [
            "The average of the numbers is : 30.0\n"
          ]
        }
      ]
    },
    {
      "cell_type": "markdown",
      "source": [
        "2. Write a program that prompts a user to enter the element of a list and add the element\n",
        "to a list. Write a function maximum(Lst) and minimum(Lst) to find the maximum and\n",
        "minimum number from the list."
      ],
      "metadata": {
        "id": "E8URDNVlotZ8"
      }
    },
    {
      "cell_type": "code",
      "source": [
        "n = int(input(\"Enter no.of Elements :- \"))\n",
        "listt = []\n",
        "for i in range (n):\n",
        "  i = int(input(\"Enter the number :- \"))\n",
        "  listt.append(i)\n",
        "\n",
        "def maximum(l):\n",
        "  print(\"Maximum of given list :- \",max(l))\n",
        "\n",
        "def minimum(l):\n",
        "  print(\"Minimum of given list :- \",min(l))\n",
        "\n",
        "maximum(listt)\n",
        "minimum(listt)\n"
      ],
      "metadata": {
        "colab": {
          "base_uri": "https://localhost:8080/"
        },
        "id": "iGc4DQ1boxf1",
        "outputId": "7c4f2c53-f414-4838-9345-7f679624b547"
      },
      "execution_count": null,
      "outputs": [
        {
          "output_type": "stream",
          "name": "stdout",
          "text": [
            "Enter no.of Elements :- 4\n",
            "Enter the number :- 2\n",
            "Enter the number :- 6\n",
            "Enter the number :- 8\n",
            "Enter the number :- 9\n",
            "Maximum of given list :-  9\n",
            "Minimum of given list :-  2\n"
          ]
        }
      ]
    },
    {
      "cell_type": "markdown",
      "source": [
        "3. Write a function print_reverse(Lst) to reverse the elements of a list."
      ],
      "metadata": {
        "id": "JX9QS3a-owpN"
      }
    },
    {
      "cell_type": "code",
      "source": [
        "def reverse(list):\n",
        "  reversed_list = []\n",
        "  for i in range(len(list) - 1, -1, -1):\n",
        "    reversed_list.append(list[i])\n",
        "  return reversed_list\n",
        "my_list = [1, 2, 3, 4, 5]\n",
        "reversed_list = reverse(my_list)\n",
        "print(reversed_list)"
      ],
      "metadata": {
        "colab": {
          "base_uri": "https://localhost:8080/"
        },
        "id": "0mFpOzwKo1KC",
        "outputId": "97873e0c-1470-4c2e-cbe9-f14368119928"
      },
      "execution_count": null,
      "outputs": [
        {
          "output_type": "stream",
          "name": "stdout",
          "text": [
            "[5, 4, 3, 2, 1]\n"
          ]
        }
      ]
    },
    {
      "cell_type": "markdown",
      "source": [
        "4. Write a program to return prime numbers from a list."
      ],
      "metadata": {
        "id": "EFoTfsvVo1en"
      }
    },
    {
      "cell_type": "code",
      "source": [
        "def is_prime(n):\n",
        "  for i in range(2, int(n**0.5) + 1):\n",
        "    if n % i == 0:\n",
        "      return False\n",
        "  return True\n",
        "def get_prime_numbers(list1):\n",
        "  prime_numbers = []\n",
        "  for num in list1:\n",
        "    if is_prime(num):\n",
        "      prime_numbers.append(num)\n",
        "  return prime_numbers\n",
        "list1 = [2, 3, 4, 5, 6, 7, 8, 9, 10]\n",
        "prime_numbers = get_prime_numbers(list1)\n",
        "print(prime_numbers)"
      ],
      "metadata": {
        "colab": {
          "base_uri": "https://localhost:8080/"
        },
        "id": "naMpZU-vo4cN",
        "outputId": "701be088-7275-4189-c9e8-262c4eb5fbe6"
      },
      "execution_count": null,
      "outputs": [
        {
          "output_type": "stream",
          "name": "stdout",
          "text": [
            "[2, 3, 5, 7]\n"
          ]
        }
      ]
    },
    {
      "cell_type": "markdown",
      "source": [
        "WEEK-2"
      ],
      "metadata": {
        "id": "jrLS6XSEo419"
      }
    },
    {
      "cell_type": "markdown",
      "source": [
        "1. Implementing Breadth First Search using python"
      ],
      "metadata": {
        "id": "JA8aOmVVo8ws"
      }
    },
    {
      "cell_type": "code",
      "source": [
        "from collections import deque\n",
        "def bfs(graph, start):\n",
        "    visited = []\n",
        "    queue = deque([start])\n",
        "    while queue:\n",
        "        node = queue.popleft()\n",
        "        if node not in visited:\n",
        "            visited.append(node)\n",
        "            neighbors = graph[node]\n",
        "            for neighbor in neighbors:\n",
        "                if neighbor not in visited:\n",
        "                    queue.append(neighbor)\n",
        "    return visited\n",
        "graph = {\n",
        "    '1': ['2', '3'],\n",
        "    '2': [ '4', '5'],\n",
        "    '3': ['6'],\n",
        "    '4': [],\n",
        "    '5': ['6'],\n",
        "    '6': []\n",
        "}\n",
        "\n",
        "print(bfs(graph, '3'))"
      ],
      "metadata": {
        "colab": {
          "base_uri": "https://localhost:8080/"
        },
        "id": "wtkbXKe-o_3u",
        "outputId": "8e2fd449-e5a4-4f64-c762-60b5b240a8b0"
      },
      "execution_count": null,
      "outputs": [
        {
          "output_type": "stream",
          "name": "stdout",
          "text": [
            "['3', '6']\n"
          ]
        }
      ]
    },
    {
      "cell_type": "markdown",
      "source": [
        "2. Implementing Depth First Search using python"
      ],
      "metadata": {
        "id": "Q--4YVbxpAVJ"
      }
    },
    {
      "cell_type": "code",
      "source": [
        "def dfs(graph, start):\n",
        "  visited = set()\n",
        "  stack = [start]\n",
        "\n",
        "  while stack:\n",
        "    node = stack.pop()\n",
        "    if node not in visited:\n",
        "      print(node, end=\" \")\n",
        "      visited.add(node)\n",
        "\n",
        "      for neighbor in graph[node]:\n",
        "        stack.append(neighbor)\n",
        "\n",
        "graph = {\n",
        "  'A': ['B', 'C'],\n",
        "  'B': ['D', 'E'],\n",
        "  'C': ['F'],\n",
        "  'D': [],\n",
        "  'E': ['F'],\n",
        "  'F': []\n",
        "}\n",
        "\n",
        "dfs(graph, 'A')"
      ],
      "metadata": {
        "colab": {
          "base_uri": "https://localhost:8080/"
        },
        "id": "ESaoG2lEpDBS",
        "outputId": "a40e16bd-5beb-4036-86a9-46ff89470876"
      },
      "execution_count": null,
      "outputs": [
        {
          "output_type": "stream",
          "name": "stdout",
          "text": [
            "A C F B E D "
          ]
        }
      ]
    },
    {
      "cell_type": "markdown",
      "source": [
        "3. Implementing Depth Limited search using python."
      ],
      "metadata": {
        "id": "15Is8g5mpDhC"
      }
    },
    {
      "cell_type": "code",
      "source": [
        "\n",
        "from collections import deque\n",
        "def bfs(graph, start):\n",
        "    visited = []\n",
        "    queue = deque([start])\n",
        "    while queue:\n",
        "        node = queue.popleft()\n",
        "        if node not in visited:\n",
        "            visited.append(node)\n",
        "            neighbors = graph[node]\n",
        "            for neighbor in neighbors:\n",
        "                if neighbor not in visited:\n",
        "                    queue.append(neighbor)\n",
        "    return visited\n",
        "graph = {\n",
        "    '1': ['2', '3'],\n",
        "    '2': [ '4', '5'],\n",
        "    '3': ['6'],\n",
        "    '4': [],\n",
        "    '5': ['6'],\n",
        "    '6': []\n",
        "}\n",
        "\n",
        "print(bfs(graph, '2'))"
      ],
      "metadata": {
        "colab": {
          "base_uri": "https://localhost:8080/"
        },
        "id": "Ve_7fNq0pHd4",
        "outputId": "7d7ff70c-a01c-4ba0-b3d7-97b6298474b4"
      },
      "execution_count": null,
      "outputs": [
        {
          "output_type": "stream",
          "name": "stdout",
          "text": [
            "['2', '4', '5', '6']\n"
          ]
        }
      ]
    },
    {
      "cell_type": "markdown",
      "source": [
        "WEEK-3"
      ],
      "metadata": {
        "id": "4ULizqCZpH4d"
      }
    },
    {
      "cell_type": "markdown",
      "source": [
        "1. Implementing Best First Search using python."
      ],
      "metadata": {
        "id": "spkIwc_npQJv"
      }
    },
    {
      "cell_type": "code",
      "source": [],
      "metadata": {
        "id": "XbfgJ5aGpRF4"
      },
      "execution_count": null,
      "outputs": []
    },
    {
      "cell_type": "markdown",
      "source": [
        "2. Write a program to Perform operations of NumPy in python -type -length – ndim-\n",
        "shape -reshape -arange -item size -dtype"
      ],
      "metadata": {
        "id": "tw7nz6CdpRgK"
      }
    },
    {
      "cell_type": "code",
      "source": [
        "import numpy as np\n",
        "\n",
        "def numpy_operations_example():\n",
        "    # Create a numpy array\n",
        "    arr = np.array([[1, 2, 3], [4, 5, 6]])\n",
        "\n",
        "    # Type of array\n",
        "    print(\"Type of array:\")\n",
        "    print(type(arr))\n",
        "\n",
        "    # Length of array\n",
        "    print(\"\\nLength of array:\")\n",
        "    print(len(arr))\n",
        "\n",
        "    # Number of dimensions (ndim)\n",
        "    print(\"\\nNumber of dimensions:\")\n",
        "    print(arr.ndim)\n",
        "\n",
        "    # Shape of array\n",
        "    print(\"\\nShape of array:\")\n",
        "    print(arr.shape)\n",
        "\n",
        "    # Reshape array\n",
        "    print(\"\\nReshaped array:\")\n",
        "    arr_reshaped = np.reshape(arr, (3, 2))\n",
        "    print(arr_reshaped)\n",
        "\n",
        "    # Generate array using arange\n",
        "    print(\"\\nArray using arange:\")\n",
        "    arr_arange = np.arange(0, 10, 2)\n",
        "    print(arr_arange)\n",
        "\n",
        "    # Item size of array elements\n",
        "    print(\"\\nItem size of array elements:\")\n",
        "    print(arr.itemsize)\n",
        "\n",
        "    # Data type of array\n",
        "    print(\"\\nData type of array:\")\n",
        "    print(arr.dtype)\n",
        "\n",
        "if __name__ == \"__main__\":\n",
        "    numpy_operations_example()\n"
      ],
      "metadata": {
        "id": "jaOCWTZ-pVz9",
        "colab": {
          "base_uri": "https://localhost:8080/"
        },
        "outputId": "c620b69b-2a2f-41ab-af15-4922dc8e47fa"
      },
      "execution_count": null,
      "outputs": [
        {
          "output_type": "stream",
          "name": "stdout",
          "text": [
            "Type of array:\n",
            "<class 'numpy.ndarray'>\n",
            "\n",
            "Length of array:\n",
            "2\n",
            "\n",
            "Number of dimensions:\n",
            "2\n",
            "\n",
            "Shape of array:\n",
            "(2, 3)\n",
            "\n",
            "Reshaped array:\n",
            "[[1 2]\n",
            " [3 4]\n",
            " [5 6]]\n",
            "\n",
            "Array using arange:\n",
            "[0 2 4 6 8]\n",
            "\n",
            "Item size of array elements:\n",
            "8\n",
            "\n",
            "Data type of array:\n",
            "int64\n"
          ]
        }
      ]
    },
    {
      "cell_type": "markdown",
      "source": [
        "3. Write a program in python to perform NumPy arithmetic operations. -add -subtract -\n",
        "multiply -divide -dot -sin, cos, tan -sum -transpose –power."
      ],
      "metadata": {
        "id": "vsEmyb23pWRZ"
      }
    },
    {
      "cell_type": "code",
      "source": [
        "import numpy as np\n",
        "\n",
        "# Create sample arrays\n",
        "A = np.array([[1, 2], [3, 4]])\n",
        "B = np.array([[5, 6], [7, 8]])\n",
        "\n",
        "# Addition\n",
        "addition = np.add(A, B)\n",
        "print(\"Addition:\")\n",
        "print(addition)\n",
        "\n",
        "# Subtraction\n",
        "subtraction = np.subtract(A, B)\n",
        "print(\"\\nSubtraction:\")\n",
        "print(subtraction)\n",
        "\n",
        "# Multiplication (element-wise)\n",
        "multiplication = np.multiply(A, B)\n",
        "print(\"\\nMultiplication:\")\n",
        "print(multiplication)\n",
        "\n",
        "# Division (element-wise)\n",
        "division = np.divide(A, B)\n",
        "print(\"\\nDivision:\")\n",
        "print(division)\n",
        "\n",
        "# Dot product\n",
        "dot_product = np.dot(A, B)\n",
        "print(\"\\nDot Product:\")\n",
        "print(dot_product)\n",
        "\n",
        "# Trigonometric functions (sin, cos, tan)\n",
        "print(\"\\nTrigonometric functions:\")\n",
        "sin_A = np.sin(A)\n",
        "cos_A = np.cos(A)\n",
        "tan_A = np.tan(A)\n",
        "print(\"sin(A):\\n\", sin_A)\n",
        "print(\"cos(A):\\n\", cos_A)\n",
        "print(\"tan(A):\\n\", tan_A)\n",
        "\n",
        "# Sum of all elements\n",
        "sum_A = np.sum(A)\n",
        "print(\"\\nSum of all elements in A:\", sum_A)\n",
        "\n",
        "# Transpose of an array\n",
        "transpose_A = np.transpose(A)\n",
        "print(\"\\nTranspose of A:\")\n",
        "print(transpose_A)\n",
        "\n",
        "# Power operation\n",
        "power_A = np.power(A, 2)  # Square of each element\n",
        "print(\"\\nPower of A (each element squared):\")\n",
        "print(power_A)"
      ],
      "metadata": {
        "id": "Cl_1WW1JpZFo",
        "colab": {
          "base_uri": "https://localhost:8080/"
        },
        "outputId": "983afff6-7a4b-444e-ba5b-734875fa382d"
      },
      "execution_count": null,
      "outputs": [
        {
          "output_type": "stream",
          "name": "stdout",
          "text": [
            "Addition:\n",
            "[[ 6  8]\n",
            " [10 12]]\n",
            "\n",
            "Subtraction:\n",
            "[[-4 -4]\n",
            " [-4 -4]]\n",
            "\n",
            "Multiplication:\n",
            "[[ 5 12]\n",
            " [21 32]]\n",
            "\n",
            "Division:\n",
            "[[0.2        0.33333333]\n",
            " [0.42857143 0.5       ]]\n",
            "\n",
            "Dot Product:\n",
            "[[19 22]\n",
            " [43 50]]\n",
            "\n",
            "Trigonometric functions:\n",
            "sin(A):\n",
            " [[ 0.84147098  0.90929743]\n",
            " [ 0.14112001 -0.7568025 ]]\n",
            "cos(A):\n",
            " [[ 0.54030231 -0.41614684]\n",
            " [-0.9899925  -0.65364362]]\n",
            "tan(A):\n",
            " [[ 1.55740772 -2.18503986]\n",
            " [-0.14254654  1.15782128]]\n",
            "\n",
            "Sum of all elements in A: 10\n",
            "\n",
            "Transpose of A:\n",
            "[[1 3]\n",
            " [2 4]]\n",
            "\n",
            "Power of A (each element squared):\n",
            "[[ 1  4]\n",
            " [ 9 16]]\n"
          ]
        }
      ]
    }
  ]
}